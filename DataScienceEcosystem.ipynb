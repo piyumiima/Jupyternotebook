{
 "cells": [
  {
   "cell_type": "markdown",
   "id": "326a74ca-b6d3-4425-b976-6acc31b59923",
   "metadata": {},
   "source": [
    "# Data Science Tools and Ecosystem"
   ]
  },
  {
   "cell_type": "markdown",
   "id": "76029cfd-4027-4db5-82e3-575f838ce389",
   "metadata": {},
   "source": [
    "## In this notebook, Data Science Tools and Ecosystem are summarized."
   ]
  },
  {
   "cell_type": "markdown",
   "id": "c0f0667c-783d-4958-9f6d-d181dd9c3774",
   "metadata": {},
   "source": [
    "**Objectives:**\n",
    "* List popular languages for Data Science.\n",
    "* List libraries used by data scientist\n",
    "* create a table"
   ]
  },
  {
   "cell_type": "markdown",
   "id": "d62c7ae1-56a4-41be-9cbf-6b1f49147037",
   "metadata": {
    "tags": []
   },
   "source": [
    "### Some of the popular languages that Data Scientists use are:"
   ]
  },
  {
   "cell_type": "markdown",
   "id": "0eea5695-92f5-46db-b375-afc9b14c9dd5",
   "metadata": {},
   "source": [
    "1. python\n",
    "2. R\n",
    "3. java"
   ]
  },
  {
   "cell_type": "markdown",
   "id": "343cd266-44f1-4b30-95e3-9f1d8d147f47",
   "metadata": {},
   "source": [
    "### Some of the commonly used libraries used by Data Scientists include:\n",
    "1. numpy\n",
    "2. pandas\n",
    "3. seaborn"
   ]
  },
  {
   "cell_type": "markdown",
   "id": "f42f4b19-e6b7-42ed-a1fc-c74ee3f2565b",
   "metadata": {},
   "source": [
    "|  data science tools |\n",
    "| ------------------- |\n",
    "| jupyter |\n",
    "| rstudio |\n",
    "| spider |\n"
   ]
  },
  {
   "cell_type": "markdown",
   "id": "5b4e291b-b52b-4459-b5f7-b71b6060ce40",
   "metadata": {},
   "source": [
    "### Below are a few examples of evaluating arithmetic expressions in Python"
   ]
  },
  {
   "cell_type": "code",
   "execution_count": 1,
   "id": "5c049ce8-48f5-4386-b0ce-1e0892cb03b1",
   "metadata": {
    "tags": []
   },
   "outputs": [
    {
     "data": {
      "text/plain": [
       "17"
      ]
     },
     "execution_count": 1,
     "metadata": {},
     "output_type": "execute_result"
    }
   ],
   "source": [
    "# This a simple arithmetic expression to mutiply then add integers\n",
    "(3*4)+5"
   ]
  },
  {
   "cell_type": "code",
   "execution_count": 2,
   "id": "36e6e64a-7c28-4d87-861b-1153268ed672",
   "metadata": {
    "tags": []
   },
   "outputs": [
    {
     "data": {
      "text/plain": [
       "3.3333333333333335"
      ]
     },
     "execution_count": 2,
     "metadata": {},
     "output_type": "execute_result"
    }
   ],
   "source": [
    "# This will convert 200 minutes to hours by diving by 60\n",
    "200/60"
   ]
  },
  {
   "cell_type": "markdown",
   "id": "f6e6943a-a854-4815-8949-8dfbed5c69a4",
   "metadata": {},
   "source": [
    "## Author\n",
    "piyumi imasha"
   ]
  }
 ],
 "metadata": {
  "kernelspec": {
   "display_name": "Python",
   "language": "python",
   "name": "conda-env-python-py"
  },
  "language_info": {
   "codemirror_mode": {
    "name": "ipython",
    "version": 3
   },
   "file_extension": ".py",
   "mimetype": "text/x-python",
   "name": "python",
   "nbconvert_exporter": "python",
   "pygments_lexer": "ipython3",
   "version": "3.7.12"
  }
 },
 "nbformat": 4,
 "nbformat_minor": 5
}
